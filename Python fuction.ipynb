{
  "nbformat": 4,
  "nbformat_minor": 0,
  "metadata": {
    "colab": {
      "name": "Python fuction.ipynb",
      "provenance": [],
      "authorship_tag": "ABX9TyNeoW1lV9kePbIauQ3AJyjl",
      "include_colab_link": true
    },
    "kernelspec": {
      "name": "python3",
      "display_name": "Python 3"
    }
  },
  "cells": [
    {
      "cell_type": "markdown",
      "metadata": {
        "id": "view-in-github",
        "colab_type": "text"
      },
      "source": [
        "<a href=\"https://colab.research.google.com/github/Borhanuddin672012/Prectics-Bloge/blob/main/Python%20fuction.ipynb\" target=\"_parent\"><img src=\"https://colab.research.google.com/assets/colab-badge.svg\" alt=\"Open In Colab\"/></a>"
      ]
    },
    {
      "cell_type": "code",
      "metadata": {
        "id": "_quMnbuOMdui"
      },
      "source": [
        ""
      ],
      "execution_count": null,
      "outputs": []
    },
    {
      "cell_type": "markdown",
      "metadata": {
        "id": "Rwnf9YtyMn7m"
      },
      "source": [
        "\r\n",
        "**What is Lambda Function in Python?**\r\n",
        "A Lambda Function in Python programming is an anonymous function or a function having no name. It is a small and restricted function having no more than one line. Just like a normal function, a Lambda function can have multiple arguments with one expression.\r\n",
        "you will use the lambda keyword (just as you use def to define normal functions). Every anonymous function you define in Python will have 3 essential parts:\r\n",
        "\r\n",
        "The lambda keyword.\r\n",
        "The parameters (or bound variables), and\r\n",
        "The function body.\r\n"
      ]
    },
    {
      "cell_type": "markdown",
      "metadata": {
        "id": "lNFdsTJUM9Au"
      },
      "source": [
        "**Syntax and Examples : **\r\n"
      ]
    },
    {
      "cell_type": "code",
      "metadata": {
        "id": "Svx2-okMNEsD"
      },
      "source": [
        "lambda p1, p2: expression "
      ],
      "execution_count": null,
      "outputs": []
    },
    {
      "cell_type": "code",
      "metadata": {
        "colab": {
          "base_uri": "https://localhost:8080/"
        },
        "id": "VF78n8fyNH0o",
        "outputId": "98c958ea-2fa3-4156-ddac-a91e65667b9d"
      },
      "source": [
        "adder = lambda x, y: x + y\r\n",
        "print (adder (1, 2))"
      ],
      "execution_count": null,
      "outputs": [
        {
          "output_type": "stream",
          "text": [
            "3\n"
          ],
          "name": "stdout"
        }
      ]
    },
    {
      "cell_type": "markdown",
      "metadata": {
        "id": "28koB5_cNixd"
      },
      "source": [
        "IIFE in Python Lambda\r\n",
        "IIFE stands for immediately invoked function execution. "
      ]
    },
    {
      "cell_type": "code",
      "metadata": {
        "id": "q_6SZgn7Nm5e"
      },
      "source": [
        " (lambda x: x + x)(2)"
      ],
      "execution_count": null,
      "outputs": []
    },
    {
      "cell_type": "markdown",
      "metadata": {
        "id": "Lczos5cHNp1u"
      },
      "source": [
        "***lambdas in filter()***\r\n",
        "The filter function is used to select some particular elements from a sequence of elements. The sequence can be any iterator like lists, sets, tuples, etc.\r\n",
        "\r\n",
        "The elements which will be selected is based on some pre-defined constraint. It takes 2 parameters:"
      ]
    },
    {
      "cell_type": "code",
      "metadata": {
        "id": "V4iMUw_QNzXE"
      },
      "source": [
        "sequences = [10,2,8,7,5,4,3,11,0, 1]\r\n",
        "filtered_result = filter (lambda x: x > 4, sequences) \r\n",
        "print(list(filtered_result))"
      ],
      "execution_count": null,
      "outputs": []
    },
    {
      "cell_type": "markdown",
      "metadata": {
        "id": "3ZpwLuk-N2ef"
      },
      "source": [
        "**lambdas in map()** the map function is used to apply a particular operation to every element in a sequence. Like filter(), it also takes 2 parameters:\r\n",
        "\r\n",
        "A function that defines the op to perform on the elements\r\n",
        "One or more sequences"
      ]
    },
    {
      "cell_type": "code",
      "metadata": {
        "id": "6RtOn-VfN9i-"
      },
      "source": [
        "sequences = [10,2,8,7,5,4,3,11,0, 1]\r\n",
        "filtered_result = map (lambda x: x*x, sequences) \r\n",
        "print(list(filtered_result))"
      ],
      "execution_count": null,
      "outputs": []
    },
    {
      "cell_type": "markdown",
      "metadata": {
        "id": "DiRyS8rqOCFX"
      },
      "source": [
        "**lambdas in reduce()** Step 1) Perform the defined operation on the first 2 elements of the sequence.\r\n",
        "\r\n",
        "Step 2) Save this result\r\n",
        "\r\n",
        "\r\n",
        "Step 3) Perform the operation with the saved result and the next element in the sequence.\r\n",
        "\r\n",
        "Step 4) Repeat until no more elements are left"
      ]
    },
    {
      "cell_type": "code",
      "metadata": {
        "colab": {
          "base_uri": "https://localhost:8080/"
        },
        "id": "85GErHzMOJcd",
        "outputId": "63ed3931-8278-478a-9f02-b64c764d764e"
      },
      "source": [
        "from functools import reduce\r\n",
        "sequences = [1,2,3,4,5]\r\n",
        "product = reduce (lambda x, y: x*y, sequences)\r\n",
        "print(product)"
      ],
      "execution_count": null,
      "outputs": [
        {
          "output_type": "stream",
          "text": [
            "120\n"
          ],
          "name": "stdout"
        }
      ]
    },
    {
      "cell_type": "code",
      "metadata": {
        "id": "hu5NOwxKX0I8"
      },
      "source": [
        "#Convert the date in YYYY-mm-dd HH:MM format and store that date in 'Date' column\r\n",
        "Retail_df['Date']=pd.to_datetime(Retail_df['InvoiceDate'], format = '%Y-%m-%d %H:%M:%S')\r\n",
        "#Retail_df['Date']=Retail_df['Date'].apply(lambda x: x.strftime('%Y-%d-%m %H:%M'))\r\n",
        "\r\n",
        "# Count the unique no of attributes in Retail data\r\n",
        "def unique_counts(Retail_df):\r\n",
        "   for i in Retail_df.columns:\r\n",
        "       count = Retail_df[i].nunique()\r\n",
        "       print(i, \": \", count)\r\n",
        "unique_counts(Retail_df)\r\n"
      ],
      "execution_count": null,
      "outputs": []
    },
    {
      "cell_type": "markdown",
      "metadata": {
        "id": "rgubV1pCXXu3"
      },
      "source": [
        "[**pandas.to_datetime**](https://pandas.pydata.org/pandas-docs/stable/reference/api/pandas.to_datetime.html)"
      ]
    }
  ]
}